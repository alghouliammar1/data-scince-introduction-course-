import numpy as np

from sklearn.metrics import mean_squared_error

import matplotlib.pyplot as plt
np.random.seed(42)

n_samples = 100

X = np.linspace(0, 10, n_samples)

y = 3 * X + 2 + np.random.randn(n_samples)
X.shape
y.shape
plt.scatter(X, y)

plt.xlabel("X")

plt.ylabel("Y")

plt.show()
X = X.reshape(-1, 1)

y = y.reshape(-1, 1)
from sklearn.model_selection import train_test_split

X_train, X_test, y_train, y_test = train_test_split(X, y, test_size=0.2, random_state=42)
from sklearn.linear_model import SGDRegressor

sgd = SGDRegressor(alpha=0.01, max_iter=1000, tol=1e-3)

sgd.fit(X_train, y_train.ravel())
y_pred = sgd.predict(X_test)

mse = mean_squared_error(y_test, y_pred)

print(f'Test set MSE: {mse:.2f}')

plt.scatter(X_test, y_test)

plt.plot(X_test, y_pred, color='red')

plt.xlabel("‘X’")

plt.ylabel("‘y’")

plt.show()
from sklearn.datasets import load_diabetes 

var_X, var_y = load_diabetes(return_X_y=True)

print("number of independent variables:", var_X.shape[1:])

print("number of data points:", var_y.shape)
ar_X = var_X[:, np.newaxis, 2]

var_X.shape
from sklearn.model_selection import train_test_split

X_train, X_actual, y_train, y_actual = train_test_split(

    var_X, var_y, test_size=0.10, random_state=42)

print("number of data points in training data", X_train.shape, X_actual.shape)

print("number of data points in testing data", y_train.shape, y_actual.shape)
from sklearn.linear_model import LinearRegression 

LineR = LinearRegression()


LineR.fit(X_train, y_train)

predictions = LineR.predict(X_actual)

import matplotlib.pyplot as plt
print("number of data points in training data", X_train.shape, y_train.shape)
X_train=np.arange(0,len(X_train),1)

plt.scatter(X_train, y_train)
plt.plot(y_actual, predictions,linewidth=1.5,color='red')
X_actual=np.arange(0,len(X_actual),1)
plt.scatter(X_actual, y_actual)
plt.plot(X_actual, predictions,linewidth=1.5,color="brown")
#X_actual.shape
#plt.plot(X_actual, prediction,linewidth=6)
